{
 "cells": [
  {
   "cell_type": "markdown",
   "metadata": {},
   "source": [
    "# Comparison different ways of summing elements from file"
   ]
  },
  {
   "cell_type": "code",
   "execution_count": 1,
   "metadata": {},
   "outputs": [],
   "source": [
    "import csv\n",
    "from numpy.random import randint"
   ]
  },
  {
   "cell_type": "code",
   "execution_count": 4,
   "metadata": {},
   "outputs": [],
   "source": [
    "def generate_file(sizes_in_Mb):\n",
    "    for size in sizes_in_Mb:\n",
    "        with open(f'test_file_{size}_Mb.csv', 'w', newline='') as output_file:\n",
    "            writer = csv.writer(output_file)\n",
    "            for _ in range(size*1024*1024//6):\n",
    "                writer.writerow([randint(1000,9999)])\n",
    "        print(f'{size} Mb file generated!')"
   ]
  },
  {
   "cell_type": "code",
   "execution_count": 5,
   "metadata": {},
   "outputs": [
    {
     "name": "stdout",
     "output_type": "stream",
     "text": [
      "Do you have already csv-files with the required sizes (1,10,50 Mb)? (Y/N)n\n",
      "Generating files in current working directory...\n",
      "1 Mb file generated!\n",
      "10 Mb file generated!\n",
      "50 Mb file generated!\n",
      "Generating completed successfully!\n"
     ]
    }
   ],
   "source": [
    "while True:\n",
    "    files_present = input(\"Do you have already csv-files with the required sizes (1,10,50 Mb)? (Y/N) \")\n",
    "    if files_present in ['Y','y','yes','N','n','no']:\n",
    "        break\n",
    "if files_present in ['N','n','no']:\n",
    "    print(\"Generating files in current working directory...\")\n",
    "    generate_file(sizes_in_Mb=[1,10,50])\n",
    "    print(\"Generating completed successfully!\")"
   ]
  },
  {
   "cell_type": "code",
   "execution_count": 6,
   "metadata": {},
   "outputs": [],
   "source": [
    "# iterator\n",
    "def sum_iterator(filename): \n",
    "    s = 0\n",
    "    with open(filename,'r') as file:\n",
    "        for line in file:\n",
    "            s += int(line)  \n",
    "    return s"
   ]
  },
  {
   "cell_type": "code",
   "execution_count": 7,
   "metadata": {},
   "outputs": [
    {
     "name": "stdout",
     "output_type": "stream",
     "text": [
      "80 ms ± 12.5 ms per loop (mean ± std. dev. of 5 runs, 10 loops each)\n"
     ]
    }
   ],
   "source": [
    "%timeit sum_iterator('test_file_1_Mb.csv')"
   ]
  },
  {
   "cell_type": "code",
   "execution_count": 8,
   "metadata": {},
   "outputs": [
    {
     "name": "stdout",
     "output_type": "stream",
     "text": [
      "741 ms ± 15.4 ms per loop (mean ± std. dev. of 7 runs, 1 loop each)\n"
     ]
    }
   ],
   "source": [
    "%timeit sum_iterator('test_file_10_Mb.csv')"
   ]
  },
  {
   "cell_type": "code",
   "execution_count": 9,
   "metadata": {},
   "outputs": [
    {
     "name": "stdout",
     "output_type": "stream",
     "text": [
      "3.85 s ± 216 ms per loop (mean ± std. dev. of 7 runs, 1 loop each)\n"
     ]
    }
   ],
   "source": [
    "%timeit sum_iterator('test_file_50_Mb.csv')"
   ]
  },
  {
   "cell_type": "code",
   "execution_count": 10,
   "metadata": {},
   "outputs": [],
   "source": [
    "#generator\n",
    "def sum_generator(filename):\n",
    "    with open(filename,'r') as file:\n",
    "        lines = (line for line in file)\n",
    "        numbers = (x for x in lines if x.isnumeric())\n",
    "        return sum(numbers)"
   ]
  },
  {
   "cell_type": "code",
   "execution_count": 11,
   "metadata": {},
   "outputs": [
    {
     "name": "stdout",
     "output_type": "stream",
     "text": [
      "44.8 ms ± 912 µs per loop (mean ± std. dev. of 7 runs, 10 loops each)\n"
     ]
    }
   ],
   "source": [
    "%timeit sum_generator('test_file_1_Mb.csv')"
   ]
  },
  {
   "cell_type": "code",
   "execution_count": 12,
   "metadata": {},
   "outputs": [
    {
     "name": "stdout",
     "output_type": "stream",
     "text": [
      "480 ms ± 37.5 ms per loop (mean ± std. dev. of 7 runs, 1 loop each)\n"
     ]
    }
   ],
   "source": [
    "%timeit sum_generator('test_file_10_Mb.csv')"
   ]
  },
  {
   "cell_type": "code",
   "execution_count": 13,
   "metadata": {},
   "outputs": [
    {
     "name": "stdout",
     "output_type": "stream",
     "text": [
      "2.39 s ± 111 ms per loop (mean ± std. dev. of 7 runs, 1 loop each)\n"
     ]
    }
   ],
   "source": [
    "%timeit sum_generator('test_file_50_Mb.csv')"
   ]
  },
  {
   "cell_type": "code",
   "execution_count": 14,
   "metadata": {},
   "outputs": [],
   "source": [
    "# readlines\n",
    "def sum_list(filename): \n",
    "    with open(filename,'r') as file:\n",
    "        lines = file.readlines()\n",
    "    return sum([int(x) for x in lines])"
   ]
  },
  {
   "cell_type": "code",
   "execution_count": 15,
   "metadata": {},
   "outputs": [
    {
     "name": "stdout",
     "output_type": "stream",
     "text": [
      "96.6 ms ± 5.53 ms per loop (mean ± std. dev. of 7 runs, 10 loops each)\n"
     ]
    }
   ],
   "source": [
    "%timeit sum_list('test_file_1_Mb.csv')"
   ]
  },
  {
   "cell_type": "code",
   "execution_count": 16,
   "metadata": {},
   "outputs": [
    {
     "name": "stdout",
     "output_type": "stream",
     "text": [
      "1.13 s ± 68.1 ms per loop (mean ± std. dev. of 7 runs, 1 loop each)\n"
     ]
    }
   ],
   "source": [
    "%timeit sum_list('test_file_10_Mb.csv')"
   ]
  },
  {
   "cell_type": "code",
   "execution_count": 17,
   "metadata": {},
   "outputs": [
    {
     "name": "stdout",
     "output_type": "stream",
     "text": [
      "5.39 s ± 180 ms per loop (mean ± std. dev. of 7 runs, 1 loop each)\n"
     ]
    }
   ],
   "source": [
    "%timeit sum_list('test_file_50_Mb.csv')"
   ]
  },
  {
   "cell_type": "code",
   "execution_count": 5,
   "metadata": {},
   "outputs": [],
   "source": [
    "import pandas as pd\n",
    "import matplotlib.pyplot as plt"
   ]
  },
  {
   "cell_type": "code",
   "execution_count": 6,
   "metadata": {},
   "outputs": [],
   "source": [
    "data = [[45,  80, 97],\n",
    "        [480,  741, 1130],\n",
    "        [2390, 3850, 5390]]\n",
    "sum_time = pd.DataFrame(data=data,\n",
    "                        columns=['generator','iterator','read_all'],\n",
    "                        index=[\"1M(ms)\",\"10M(ms)\",\"50M(ms)\"])"
   ]
  },
  {
   "cell_type": "code",
   "execution_count": 7,
   "metadata": {},
   "outputs": [
    {
     "data": {
      "text/html": [
       "<div>\n",
       "<style scoped>\n",
       "    .dataframe tbody tr th:only-of-type {\n",
       "        vertical-align: middle;\n",
       "    }\n",
       "\n",
       "    .dataframe tbody tr th {\n",
       "        vertical-align: top;\n",
       "    }\n",
       "\n",
       "    .dataframe thead th {\n",
       "        text-align: right;\n",
       "    }\n",
       "</style>\n",
       "<table border=\"1\" class=\"dataframe\">\n",
       "  <thead>\n",
       "    <tr style=\"text-align: right;\">\n",
       "      <th></th>\n",
       "      <th>generator</th>\n",
       "      <th>iterator</th>\n",
       "      <th>read_all</th>\n",
       "    </tr>\n",
       "  </thead>\n",
       "  <tbody>\n",
       "    <tr>\n",
       "      <th>1M(ms)</th>\n",
       "      <td>45</td>\n",
       "      <td>80</td>\n",
       "      <td>97</td>\n",
       "    </tr>\n",
       "    <tr>\n",
       "      <th>10M(ms)</th>\n",
       "      <td>480</td>\n",
       "      <td>741</td>\n",
       "      <td>1130</td>\n",
       "    </tr>\n",
       "    <tr>\n",
       "      <th>50M(ms)</th>\n",
       "      <td>2390</td>\n",
       "      <td>3850</td>\n",
       "      <td>5390</td>\n",
       "    </tr>\n",
       "  </tbody>\n",
       "</table>\n",
       "</div>"
      ],
      "text/plain": [
       "         generator  iterator  read_all\n",
       "1M(ms)          45        80        97\n",
       "10M(ms)        480       741      1130\n",
       "50M(ms)       2390      3850      5390"
      ]
     },
     "execution_count": 7,
     "metadata": {},
     "output_type": "execute_result"
    }
   ],
   "source": [
    "sum_time"
   ]
  },
  {
   "cell_type": "markdown",
   "metadata": {},
   "source": [
    "The best solution is **generator**"
   ]
  },
  {
   "cell_type": "code",
   "execution_count": 27,
   "metadata": {},
   "outputs": [
    {
     "data": {
      "image/png": "[encoded data removed]",
      "text/plain": [
       "<Figure size 1152x432 with 1 Axes>"
      ]
     },
     "metadata": {
      "needs_background": "light"
     },
     "output_type": "display_data"
    }
   ],
   "source": [
    "figure, axis = plt.subplots(figsize=(16,6))\n",
    "color = iter(['green','blue','red'])\n",
    "for column in sum_time.columns:\n",
    "    plt.plot([1,10,50],sum_time[column].values, color=next(color), label=column)\n",
    "\n",
    "plt.title(\"Comparison different ways of summing elements from file\",fontsize=20)\n",
    "plt.ylabel(\"Time in ms\",fontsize=16)\n",
    "plt.xlabel(\"File size in Mb\",fontsize=16)\n",
    "plt.legend(fontsize=18)\n",
    "plt.show()"
   ]
  },
  {
   "cell_type": "code",
   "execution_count": null,
   "metadata": {},
   "outputs": [],
   "source": []
  }
 ],
 "metadata": {
  "kernelspec": {
   "display_name": "Python 3",
   "language": "python",
   "name": "python3"
  },
  "language_info": {
   "codemirror_mode": {
    "name": "ipython",
    "version": 3
   },
   "file_extension": ".py",
   "mimetype": "text/x-python",
   "name": "python",
   "nbconvert_exporter": "python",
   "pygments_lexer": "ipython3",
   "version": "3.7.1"
  }
 },
 "nbformat": 4,
 "nbformat_minor": 2
}
